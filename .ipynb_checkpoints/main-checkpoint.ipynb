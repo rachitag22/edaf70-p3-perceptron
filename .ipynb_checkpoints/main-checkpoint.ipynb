{
 "cells": [
  {
   "cell_type": "markdown",
   "metadata": {},
   "source": [
    "# EDAF70 - Project 3 - Perceptron\n",
    "## Rachit Agarwal + Jay Mangrulkar"
   ]
  },
  {
   "cell_type": "markdown",
   "metadata": {},
   "source": [
    "# Part 1 - Linear Regression\n",
    "We compute the regression line linking counts of letters in a text to counts of letter a using Python functions (no numpy).\n",
    "\n",
    "Author: Pierre Nugues"
   ]
  },
  {
   "cell_type": "markdown",
   "metadata": {},
   "source": [
    "## Modules\n",
    "We import the modules we need to run the program"
   ]
  },
  {
   "cell_type": "code",
   "execution_count": 79,
   "metadata": {
    "collapsed": true
   },
   "outputs": [],
   "source": [
    "import random\n",
    "import vector_ops as vector\n",
    "import datasets\n",
    "import matplotlib.pyplot as plt\n",
    "import numpy as np\n",
    "import statistics\n",
    "import math"
   ]
  },
  {
   "cell_type": "markdown",
   "metadata": {},
   "source": [
    "## Function to compute the sum of squared errors"
   ]
  },
  {
   "cell_type": "code",
   "execution_count": 2,
   "metadata": {
    "collapsed": true
   },
   "outputs": [],
   "source": [
    "def sse(X, y, w):\n",
    "    error = vector.sub(y, vector.mul_mat_vec(X, w))\n",
    "    return vector.dot(error, error)"
   ]
  },
  {
   "cell_type": "markdown",
   "metadata": {},
   "source": [
    "## Function to normalize the data"
   ]
  },
  {
   "cell_type": "code",
   "execution_count": 3,
   "metadata": {
    "collapsed": true
   },
   "outputs": [],
   "source": [
    "def normalize(observations):\n",
    "    maxima = [max([obs[i] for obs in observations]) for i in range(len(observations[0]))]\n",
    "    return ([[obs[i] / maxima[i]\n",
    "              for i in range(len(observations[0]))] for obs in observations],\n",
    "            maxima)"
   ]
  },
  {
   "cell_type": "markdown",
   "metadata": {},
   "source": [
    "## Stochastic descent\n",
    "Function to apply a stochastic descent"
   ]
  },
  {
   "cell_type": "code",
   "execution_count": 4,
   "metadata": {
    "collapsed": true
   },
   "outputs": [],
   "source": [
    "def stoch_descent(X, y, alpha, w):\n",
    "    \"\"\"\n",
    "    Stochastic gradient descent\n",
    "    :param X:\n",
    "    :param y:\n",
    "    :param alpha:\n",
    "    :param w:\n",
    "    :return:\n",
    "    \"\"\"\n",
    "    global logs, logs_stoch\n",
    "    logs = []\n",
    "    logs_stoch = []\n",
    "    random.seed(0)\n",
    "    idx = list(range(len(X)))\n",
    "    for epoch in range(1000):\n",
    "        random.shuffle(idx)\n",
    "        w_old = w\n",
    "        for i in idx:\n",
    "            loss = y[i] - vector.dot(X[i], w)\n",
    "            gradient = vector.mul(loss, X[i])\n",
    "            w = vector.add(w, vector.mul(alpha, gradient))\n",
    "            logs_stoch += (w, alpha, sse(X, y, w))\n",
    "        if vector.norm(vector.sub(w, w_old)) / vector.norm(w) < 1.0e-5:\n",
    "            break\n",
    "        logs += (w, alpha, sse(X, y, w))\n",
    "    print(\"Epoch\", epoch)\n",
    "    return w"
   ]
  },
  {
   "cell_type": "markdown",
   "metadata": {},
   "source": [
    "## Batch descent\n",
    "Function to apply a batch descent"
   ]
  },
  {
   "cell_type": "code",
   "execution_count": 5,
   "metadata": {
    "collapsed": true
   },
   "outputs": [],
   "source": [
    "def batch_descent(X, y, alpha, w):\n",
    "    \"\"\"\n",
    "    Batch gradient descent\n",
    "    :param X:\n",
    "    :param y:\n",
    "    :param alpha:\n",
    "    :param w:\n",
    "    :return:\n",
    "    \"\"\"\n",
    "    global logs\n",
    "    logs = []\n",
    "    alpha /= len(X)\n",
    "    for epoch in range(1, 1000):\n",
    "        loss = vector.sub(y, vector.mul_mat_vec(X, w))\n",
    "        gradient = vector.mul_mat_vec(vector.transpose(X), loss)\n",
    "        w_old = w\n",
    "        w = vector.add(w, vector.mul(alpha, gradient))\n",
    "        logs += (w, alpha, sse(X, y, w))\n",
    "        if vector.norm(vector.sub(w, w_old)) / vector.norm(w) < 1.0e-5:\n",
    "            break\n",
    "    print(\"Epoch\", epoch)\n",
    "    return w"
   ]
  },
  {
   "cell_type": "markdown",
   "metadata": {},
   "source": [
    "## We load the data and we possibly normalize it"
   ]
  },
  {
   "cell_type": "code",
   "execution_count": 6,
   "metadata": {},
   "outputs": [
    {
     "name": "stdout",
     "output_type": "stream",
     "text": [
      "-Normalized-\n"
     ]
    }
   ],
   "source": [
    "normalized = True\n",
    "debug = False\n",
    "X, y = datasets.load_tsv(\n",
    "    'https://raw.githubusercontent.com/pnugues/ilppp/master/programs/ch04/salammbo/salammbo_a_en.tsv')\n",
    "\n",
    "alpha = 1.0e-10\n",
    "\n",
    "if normalized:\n",
    "    X, maxima_X = normalize(X)\n",
    "    maxima_y = max(y)\n",
    "    y = [yi / maxima_y for yi in y]\n",
    "    maxima = maxima_X + [maxima_y]\n",
    "    alpha = 1.0\n",
    "    print(\"-Normalized-\")"
   ]
  },
  {
   "cell_type": "markdown",
   "metadata": {},
   "source": [
    "## We apply a batch descent"
   ]
  },
  {
   "cell_type": "code",
   "execution_count": 7,
   "metadata": {},
   "outputs": [
    {
     "name": "stdout",
     "output_type": "stream",
     "text": [
      "===Batch descent===\n",
      "Epoch 179\n",
      "Weights [-0.0006410969822137574, 0.9945365616860317]\n",
      "SSE 0.0008629705784844469\n",
      "Restored weights [-3.1227834003632124, 0.06429009969174887]\n"
     ]
    }
   ],
   "source": [
    "print(\"===Batch descent===\")\n",
    "w = [0.0] * (len(X))\n",
    "w = batch_descent(X, y, alpha, w)\n",
    "print(\"Weights\", w)\n",
    "print(\"SSE\", sse(X, y, w))\n",
    "if normalized:\n",
    "    w = [w[i] * maxima[-1] / maxima[i] for i in range(len(w))]\n",
    "    print(\"Restored weights\", w)\n",
    "if debug:\n",
    "    print(\"Logs\", logs)"
   ]
  },
  {
   "cell_type": "markdown",
   "metadata": {},
   "source": [
    "## We restore the coordinates"
   ]
  },
  {
   "cell_type": "code",
   "execution_count": 8,
   "metadata": {
    "collapsed": true
   },
   "outputs": [],
   "source": [
    "x_fig = [X[i][1] * maxima_X[1] for i in range(len(X))]\n",
    "y_fig = [yi * maxima_y for yi in y]"
   ]
  },
  {
   "cell_type": "markdown",
   "metadata": {},
   "source": [
    "## We plot the coordinates and the line"
   ]
  },
  {
   "cell_type": "code",
   "execution_count": 9,
   "metadata": {},
   "outputs": [
    {
     "data": {
      "image/png": "[encoded data removed]",
      "text/plain": [
       "<Figure size 432x288 with 1 Axes>"
      ]
     },
     "metadata": {
      "needs_background": "light"
     },
     "output_type": "display_data"
    }
   ],
   "source": [
    "plt.scatter(x_fig, y_fig)\n",
    "plt.plot([min(x_fig), max(x_fig)],\n",
    "         [vector.dot([1, min(x_fig)], w), \n",
    "          vector.dot([1, max(x_fig)], w)])\n",
    "plt.show()"
   ]
  },
  {
   "cell_type": "markdown",
   "metadata": {},
   "source": [
    "## Showing the iterations"
   ]
  },
  {
   "cell_type": "markdown",
   "metadata": {},
   "source": [
    "### The errors"
   ]
  },
  {
   "cell_type": "code",
   "execution_count": 10,
   "metadata": {},
   "outputs": [
    {
     "data": {
      "image/png": "[encoded data removed]",
      "text/plain": [
       "<Figure size 432x288 with 1 Axes>"
      ]
     },
     "metadata": {
      "needs_background": "light"
     },
     "output_type": "display_data"
    }
   ],
   "source": [
    "plt.scatter(range(len(logs[2::3])), logs[2::3], c='b', marker='x')\n",
    "plt.title(\"Batch gradient descent: Sum of squared errors\")\n",
    "plt.show()"
   ]
  },
  {
   "cell_type": "code",
   "execution_count": 11,
   "metadata": {},
   "outputs": [
    {
     "data": {
      "image/png": "[encoded data removed]",
      "text/plain": [
       "<Figure size 432x288 with 1 Axes>"
      ]
     },
     "metadata": {
      "needs_background": "light"
     },
     "output_type": "display_data"
    }
   ],
   "source": [
    "plt.plot(list(map(lambda pair: pair[0], logs[0::3])), list(map(lambda pair: pair[1], logs[0::3])), marker='o')\n",
    "for i in range(len(logs[0::3])):\n",
    "    plt.annotate(i, xy=logs[0::3][i])\n",
    "plt.title(\"Batch gradient descent: Weights\")\n",
    "plt.show()"
   ]
  },
  {
   "cell_type": "markdown",
   "metadata": {},
   "source": [
    "## We apply a stochastic descent"
   ]
  },
  {
   "cell_type": "code",
   "execution_count": 12,
   "metadata": {},
   "outputs": [
    {
     "name": "stdout",
     "output_type": "stream",
     "text": [
      "===Stochastic descent===\n",
      "Epoch 999\n",
      "Weights [0.007397440787165033, 0.9894148244677591]\n",
      "SSE 0.0013072831584623795\n",
      "Restored weights [36.032934074280874, 0.06395901382819905]\n"
     ]
    }
   ],
   "source": [
    "print(\"===Stochastic descent===\")\n",
    "w = [0.0] * (len(X))\n",
    "w = stoch_descent(X, y, alpha, w)\n",
    "print(\"Weights\", w)\n",
    "print(\"SSE\", sse(X, y, w))\n",
    "if normalized:\n",
    "    w = [w[i] * maxima[-1] / maxima[i] for i in range(len(w))]\n",
    "    print(\"Restored weights\", w)\n",
    "if debug:\n",
    "    print(\"Logs\", logs)\n",
    "    print(\"Logs stoch.\", logs_stoch)"
   ]
  },
  {
   "cell_type": "markdown",
   "metadata": {},
   "source": [
    "## We plot the line"
   ]
  },
  {
   "cell_type": "code",
   "execution_count": 13,
   "metadata": {},
   "outputs": [
    {
     "data": {
      "image/png": "[encoded data removed]",
      "text/plain": [
       "<Figure size 432x288 with 1 Axes>"
      ]
     },
     "metadata": {
      "needs_background": "light"
     },
     "output_type": "display_data"
    }
   ],
   "source": [
    "plt.scatter(x_fig, y_fig)\n",
    "plt.plot([min(x_fig), max(x_fig)],\n",
    "         [vector.dot([1, min(x_fig)], w), \n",
    "          vector.dot([1, max(x_fig)], w)])\n",
    "plt.show()"
   ]
  },
  {
   "cell_type": "markdown",
   "metadata": {},
   "source": [
    "## Showing the iterations"
   ]
  },
  {
   "cell_type": "markdown",
   "metadata": {},
   "source": [
    "### The errors by epoch"
   ]
  },
  {
   "cell_type": "code",
   "execution_count": 14,
   "metadata": {},
   "outputs": [
    {
     "data": {
      "image/png": "[encoded data removed]",
      "text/plain": [
       "<Figure size 432x288 with 1 Axes>"
      ]
     },
     "metadata": {
      "needs_background": "light"
     },
     "output_type": "display_data"
    }
   ],
   "source": [
    "plt.scatter(range(len(logs[2::3])), logs[2::3], c='b', marker='x')\n",
    "plt.title(\"Stochastic gradient descent: Sum of squared errors\")\n",
    "plt.show()"
   ]
  },
  {
   "cell_type": "markdown",
   "metadata": {},
   "source": [
    "### The weight updates by epoch"
   ]
  },
  {
   "cell_type": "code",
   "execution_count": 15,
   "metadata": {},
   "outputs": [
    {
     "data": {
      "image/png": "[encoded data removed]",
      "text/plain": [
       "<Figure size 432x288 with 1 Axes>"
      ]
     },
     "metadata": {
      "needs_background": "light"
     },
     "output_type": "display_data"
    }
   ],
   "source": [
    "plt.plot(list(map(lambda pair: pair[0], logs[0::3])), list(map(lambda pair: pair[1], logs[0::3])), marker='o')\n",
    "plt.title(\"Stochastic gradient descent: Weights\")\n",
    "plt.show()"
   ]
  },
  {
   "cell_type": "markdown",
   "metadata": {},
   "source": [
    "### The weight updates"
   ]
  },
  {
   "cell_type": "code",
   "execution_count": 16,
   "metadata": {},
   "outputs": [
    {
     "data": {
      "image/png": "[encoded data removed]",
      "text/plain": [
       "<Figure size 432x288 with 1 Axes>"
      ]
     },
     "metadata": {
      "needs_background": "light"
     },
     "output_type": "display_data"
    }
   ],
   "source": [
    "plt.scatter(range(len(logs_stoch[2::3])), logs_stoch[2::3], c='b', marker='x')\n",
    "plt.title(\"Stochastic gradient descent: Sum of squared errors (individual updates)\")\n",
    "plt.show()"
   ]
  },
  {
   "cell_type": "markdown",
   "metadata": {},
   "source": [
    "### The weight updates by individual update"
   ]
  },
  {
   "cell_type": "code",
   "execution_count": 17,
   "metadata": {},
   "outputs": [
    {
     "data": {
      "image/png": "[encoded data removed]",
      "text/plain": [
       "<Figure size 432x288 with 1 Axes>"
      ]
     },
     "metadata": {
      "needs_background": "light"
     },
     "output_type": "display_data"
    }
   ],
   "source": [
    "plt.plot(list(map(lambda pair: pair[0], logs_stoch[0::3])), list(map(lambda pair: pair[1], logs_stoch[0::3])),\n",
    "         marker='o')\n",
    "plt.title(\"Stochastic gradient descent: Weights (individual updates)\")\n",
    "plt.show()"
   ]
  },
  {
   "cell_type": "markdown",
   "metadata": {},
   "source": [
    "# Part 2 - Perceptron"
   ]
  },
  {
   "cell_type": "markdown",
   "metadata": {},
   "source": [
    "### Scaling Function"
   ]
  },
  {
   "cell_type": "code",
   "execution_count": 18,
   "metadata": {
    "collapsed": true
   },
   "outputs": [],
   "source": [
    "def scale_data(arr):\n",
    "    new_arr = []\n",
    "    \n",
    "    min_val = min(arr)\n",
    "    minmax_range = max(arr) - min(arr)\n",
    "    \n",
    "    \n",
    "    for val in arr:\n",
    "        new_val = (val - min_val) / minmax_range\n",
    "        new_arr.append(new_val)\n",
    "    \n",
    "    return new_arr        "
   ]
  },
  {
   "cell_type": "markdown",
   "metadata": {},
   "source": [
    "### LibSVM Reading and Scaling Functions\n",
    "Reads a LibSVM-formatted file and returns 2 dictionaries mapping (x,y) tuples to language (0 = French, 1 = English). First is unscaled, second is scaled."
   ]
  },
  {
   "cell_type": "code",
   "execution_count": 19,
   "metadata": {
    "collapsed": true
   },
   "outputs": [],
   "source": [
    "def read_libsvm_and_scale(file_path):\n",
    "    data = open(file_path).read().strip().split('\\n')\n",
    "    \n",
    "    data_dict = {}\n",
    "    \n",
    "    english_x_data = []\n",
    "    english_y_data = []\n",
    "    \n",
    "    french_x_data = []\n",
    "    french_y_data = []\n",
    "    \n",
    "    for line in data:\n",
    "        arr = line.split(\" \")\n",
    "        lang = int(arr[0])\n",
    "        x = int((arr[1].split(\":\"))[1])\n",
    "        y = int((arr[2].split(\":\"))[1])\n",
    "        \n",
    "        if (lang == 1):\n",
    "            english_x_data.append(x)\n",
    "            english_y_data.append(y)\n",
    "        elif (lang == 0):\n",
    "            french_x_data.append(x)\n",
    "            french_y_data.append(y)\n",
    "    \n",
    "    english_x_data_scaled = scale_data(english_x_data)\n",
    "    english_y_data_scaled = scale_data(english_y_data)\n",
    "    french_x_data_scaled = scale_data(french_x_data)\n",
    "    french_y_data_scaled = scale_data(french_y_data)\n",
    "    \n",
    "    data_dict_scaled = data_dict.copy()\n",
    "    \n",
    "    for index in range(len(english_x_data)):\n",
    "        data_dict[(english_x_data[index], english_y_data[index])] = 0\n",
    "        data_dict_scaled[(english_x_data_scaled[index], english_y_data_scaled[index])] = 0\n",
    "    \n",
    "    for index in range(len(french_x_data)):\n",
    "        data_dict[(french_x_data[index], french_y_data[index])] = 1\n",
    "        data_dict_scaled[(french_x_data_scaled[index], french_y_data_scaled[index])] = 1\n",
    "    \n",
    "    return (data_dict, data_dict_scaled)"
   ]
  },
  {
   "cell_type": "markdown",
   "metadata": {},
   "source": [
    "### Let's read the LibSVM file and scale the data"
   ]
  },
  {
   "cell_type": "code",
   "execution_count": 20,
   "metadata": {
    "collapsed": true
   },
   "outputs": [],
   "source": [
    "(libsvm_data, scaled_libsvm_data) = read_libsvm_and_scale(\"salammbo_a_libsvm.txt\")"
   ]
  },
  {
   "cell_type": "markdown",
   "metadata": {},
   "source": [
    "### Now let's plot the unscaled and scaled data"
   ]
  },
  {
   "cell_type": "code",
   "execution_count": 21,
   "metadata": {},
   "outputs": [
    {
     "data": {
      "image/png": "[encoded data removed]",
      "text/plain": [
       "<Figure size 432x288 with 1 Axes>"
      ]
     },
     "metadata": {
      "needs_background": "light"
     },
     "output_type": "display_data"
    }
   ],
   "source": [
    "x_y_keys = libsvm_data.keys()\n",
    "colors = []\n",
    "for key in x_y_keys:\n",
    "    if (libsvm_data[key] == 0):\n",
    "        colors.append(\"red\") #English\n",
    "    if (libsvm_data[key] == 1):\n",
    "        colors.append(\"blue\") #French\n",
    "plt.scatter(*zip(*x_y_keys), c = colors)\n",
    "plt.show()"
   ]
  },
  {
   "cell_type": "code",
   "execution_count": 22,
   "metadata": {},
   "outputs": [
    {
     "data": {
      "image/png": "[encoded data removed]",
      "text/plain": [
       "<Figure size 432x288 with 1 Axes>"
      ]
     },
     "metadata": {
      "needs_background": "light"
     },
     "output_type": "display_data"
    }
   ],
   "source": [
    "x_y_keys = scaled_libsvm_data.keys()\n",
    "colors = []\n",
    "for key in x_y_keys:\n",
    "    if (scaled_libsvm_data[key] == 0):\n",
    "        colors.append(\"red\") #English\n",
    "    if (scaled_libsvm_data[key] == 1):\n",
    "        colors.append(\"blue\") #French\n",
    "plt.scatter(*zip(*x_y_keys), c = colors)\n",
    "plt.show()"
   ]
  },
  {
   "cell_type": "markdown",
   "metadata": {},
   "source": [
    "### Threshold Function"
   ]
  },
  {
   "cell_type": "code",
   "execution_count": 101,
   "metadata": {
    "collapsed": true
   },
   "outputs": [],
   "source": [
    "def threshold(input_vec, weight_vec, logistic = False):\n",
    "    if (logistic):\n",
    "        exponent = np.dot(input_vec, weight_vec)\n",
    "        # print(\"exponent: \" + str(exponent))\n",
    "        \n",
    "        try:\n",
    "            e_exponent = math.exp(-1 * exponent)\n",
    "        except OverflowError:\n",
    "            e_exponent = float('inf')\n",
    "        \n",
    "        prob_1 = 1 / (1 + e_exponent)\n",
    "        return prob_1\n",
    "    else:\n",
    "        weight_vec_new = np.array([1.0, weight_vec[0], weight_vec[1]])\n",
    "        dot_prod = weight_vec_new[0] + np.dot(weight_vec_new[1:], input_vec)\n",
    "        # print(\"dot prod: \" + str(dot_prod))\n",
    "        if dot_prod > 0:\n",
    "            return 1\n",
    "        else:\n",
    "            return 0"
   ]
  },
  {
   "cell_type": "markdown",
   "metadata": {},
   "source": [
    "### Misclassified Prediction Count Function"
   ]
  },
  {
   "cell_type": "code",
   "execution_count": 108,
   "metadata": {
    "collapsed": true
   },
   "outputs": [],
   "source": [
    "def get_num_misclassified(data_dict, weight_vec, logistic = False):\n",
    "    num_misclassified = 0\n",
    "\n",
    "    for (x, y) in data_dict:\n",
    "        arr = np.array([x, y])\n",
    "        real = data_dict[(x, y)]\n",
    "        predict = threshold(arr, weight_vec, logistic = logistic)\n",
    "        # print(\"weight vec: \" + str(weight_vec))\n",
    "        # print(\"Real | Predict: \" + str(real) + \" | \" + str(predict))\n",
    "        if real != predict:\n",
    "            num_misclassified += 1\n",
    "    \n",
    "    return num_misclassified    "
   ]
  },
  {
   "cell_type": "markdown",
   "metadata": {},
   "source": [
    "### Training Function"
   ]
  },
  {
   "cell_type": "code",
   "execution_count": 109,
   "metadata": {},
   "outputs": [],
   "source": [
    "def train(data_dict, stop_miss_threshold, num_trials, print_results, logistic = False):\n",
    "    \n",
    "    # if logistic = True, runs logistic regression with stochastic gradient descent\n",
    "    \n",
    "    # stores #'s and results of trials that test how many iterations it takes to reach below the miss threshold\n",
    "    trial_nums = []\n",
    "    trial_results = []\n",
    "    \n",
    "    best_num_iterations = 1000\n",
    "    best_weight_vector = np.array([0,0])\n",
    "    \n",
    "    for i in range(num_trials):\n",
    "        num_iterations_t = 0\n",
    "        weight_vec = np.array([0,0])\n",
    "        trial_nums.append(i+1)\n",
    "        iteration_miss_dict = {}\n",
    "        num_miss = 1000\n",
    "        infinite_loop_limit = 150\n",
    "        \n",
    "        while num_miss > stop_miss_threshold and num_iterations_t < infinite_loop_limit:\n",
    "            # print(\"iteration \" + str(num_iterations_t))\n",
    "            # print(\"weight: \" + str(weight_vec))\n",
    "\n",
    "            learning_rate_a = (1000) / (1000 + num_iterations_t)\n",
    "\n",
    "            data_arr = list(data_dict.keys())\n",
    "            random.shuffle(data_arr)\n",
    "\n",
    "            for data_point in data_arr:\n",
    "                output_val_y = data_dict[data_point]\n",
    "                input_vec_x = np.array([data_point[0], data_point[1]])\n",
    "                \n",
    "                prediction_yhat = threshold(input_vec_x, weight_vec, logistic = logistic)                \n",
    "                difference_y_yhat = output_val_y - prediction_yhat\n",
    "                \n",
    "                weight_vec[0] += learning_rate_a * input_vec_x[0] * difference_y_yhat\n",
    "                weight_vec[1] += learning_rate_a * input_vec_x[1] * difference_y_yhat\n",
    "\n",
    "            num_miss = get_num_misclassified(data_dict, weight_vec)\n",
    "            iteration_miss_dict[num_iterations_t] = num_miss\n",
    "            num_iterations_t += 1\n",
    "            \n",
    "            # print(\"misses: \" + str(num_miss))\n",
    "            # print()\n",
    "        \n",
    "        if (num_iterations_t < best_num_iterations):\n",
    "            best_num_iterations = num_iterations_t\n",
    "            best_weight_vector = weight_vec\n",
    "        trial_results.append(num_iterations_t)\n",
    "    \n",
    "    if (print_results and len(best_weight_vector) != 0):\n",
    "        print(\"Miss Threshold: \" + str(stop_miss_threshold))\n",
    "        print(\"Total # trials: \" + str(num_trials))\n",
    "        print(\"Mean # iterations: \" + str(int(statistics.mean(trial_results))))\n",
    "        print(\"Median # iterations: \" + str(int(statistics.median(trial_results))))\n",
    "        print(\"Max # iterations: \" + str(max(trial_results)))\n",
    "        print(\"Bet (Min #) iterations: \" + str(min(trial_results)))\n",
    "        print(\"Best Weight Vector: \" + str(best_weight_vector))\n",
    "    \n",
    "    return (best_weight_vector, best_num_iterations)"
   ]
  },
  {
   "cell_type": "markdown",
   "metadata": {},
   "source": [
    "### Testing"
   ]
  },
  {
   "cell_type": "markdown",
   "metadata": {},
   "source": [
    "#### Basic Testing"
   ]
  },
  {
   "cell_type": "code",
   "execution_count": 110,
   "metadata": {},
   "outputs": [
    {
     "name": "stdout",
     "output_type": "stream",
     "text": [
      "Unscaled Data\n",
      "\n",
      "Miss Threshold: 1\n",
      "Total # trials: 10\n",
      "Mean # iterations: 88\n",
      "Median # iterations: 87\n",
      "Max # iterations: 150\n",
      "Bet (Min #) iterations: 20\n",
      "Best Weight Vector: [-1743 26477]\n",
      "\n",
      "Scaled Data\n",
      "\n",
      "Miss Threshold: 11\n",
      "Total # trials: 10\n",
      "Mean # iterations: 150\n",
      "Median # iterations: 150\n",
      "Max # iterations: 150\n",
      "Bet (Min #) iterations: 150\n",
      "Best Weight Vector: [0 0]\n"
     ]
    },
    {
     "data": {
      "text/plain": [
       "(array([0, 0]), 150)"
      ]
     },
     "execution_count": 110,
     "metadata": {},
     "output_type": "execute_result"
    }
   ],
   "source": [
    "print(\"Unscaled Data\")\n",
    "print()\n",
    "train(libsvm_data, 1, 10, True)\n",
    "print()\n",
    "\n",
    "print(\"Scaled Data\")\n",
    "print()\n",
    "train(scaled_libsvm_data, 11, 10, True)"
   ]
  },
  {
   "cell_type": "markdown",
   "metadata": {},
   "source": [
    "#### Leave-One-Out (K-Fold) Cross Validation\n",
    "(k = n, number of data points)"
   ]
  },
  {
   "cell_type": "code",
   "execution_count": 111,
   "metadata": {},
   "outputs": [],
   "source": [
    "def leave_one_out_cross_validation(data, logistic = False):\n",
    "    index = 0\n",
    "    index_vec = []\n",
    "    error_vec = []\n",
    "\n",
    "    for data_point in data:\n",
    "        index_vec.append(index)\n",
    "        index += 1\n",
    "\n",
    "        temp_data_copy = dict(data)\n",
    "        del temp_data_copy[data_point]\n",
    "        weight_vec = (train(temp_data_copy, 10, 1, False), logistic = logistic)[0]\n",
    "\n",
    "        prediction = threshold(data_point, weight_vec, logistic = logistic)\n",
    "        true_val = data[data_point]\n",
    "\n",
    "        error = abs(prediction - true_val)\n",
    "        error_vec.append(error)\n",
    "    \n",
    "    plt.xlabel(\"iteration (each data point)\")\n",
    "    plt.ylabel(\"error\")\n",
    "    \n",
    "    plt.scatter(index_vec, error_vec)\n",
    "    plt.show()"
   ]
  },
  {
   "cell_type": "code",
   "execution_count": 112,
   "metadata": {},
   "outputs": [
    {
     "name": "stdout",
     "output_type": "stream",
     "text": [
      "Unscaled Data\n"
     ]
    },
    {
     "data": {
      "image/png": "[encoded data removed]",
      "text/plain": [
       "<Figure size 432x288 with 1 Axes>"
      ]
     },
     "metadata": {
      "needs_background": "light"
     },
     "output_type": "display_data"
    },
    {
     "name": "stdout",
     "output_type": "stream",
     "text": [
      "Scaled Data\n"
     ]
    },
    {
     "data": {
      "image/png": "[encoded data removed]",
      "text/plain": [
       "<Figure size 432x288 with 1 Axes>"
      ]
     },
     "metadata": {
      "needs_background": "light"
     },
     "output_type": "display_data"
    }
   ],
   "source": [
    "print(\"Unscaled Data\")\n",
    "leave_one_out_cross_validation(libsvm_data)\n",
    "\n",
    "print(\"Scaled Data\")\n",
    "leave_one_out_cross_validation(scaled_libsvm_data)"
   ]
  },
  {
   "cell_type": "markdown",
   "metadata": {
    "collapsed": true
   },
   "source": [
    "## Part 3 - Logistic Regression with Stochastic Gradient Descent"
   ]
  },
  {
   "cell_type": "markdown",
   "metadata": {},
   "source": [
    "Please see `threshold()`, `get_num_misclassfied()`, and `train()`; these methods have updates that adapt the perceptron algorithm to logistic regression."
   ]
  },
  {
   "cell_type": "markdown",
   "metadata": {},
   "source": [
    "### Testing"
   ]
  },
  {
   "cell_type": "markdown",
   "metadata": {},
   "source": [
    "#### Basic Testing"
   ]
  },
  {
   "cell_type": "code",
   "execution_count": 113,
   "metadata": {},
   "outputs": [
    {
     "name": "stdout",
     "output_type": "stream",
     "text": [
      "Unscaled Data\n",
      "\n",
      "Miss Threshold: 1\n",
      "Total # trials: 10\n",
      "Mean # iterations: 98\n",
      "Median # iterations: 103\n",
      "Max # iterations: 150\n",
      "Bet (Min #) iterations: 44\n",
      "Best Weight Vector: [-3888 58603]\n",
      "\n",
      "Scaled Data\n",
      "\n",
      "Miss Threshold: 11\n",
      "Total # trials: 10\n",
      "Mean # iterations: 150\n",
      "Median # iterations: 150\n",
      "Max # iterations: 150\n",
      "Bet (Min #) iterations: 150\n",
      "Best Weight Vector: [0 0]\n"
     ]
    },
    {
     "data": {
      "text/plain": [
       "(array([0, 0]), 150)"
      ]
     },
     "execution_count": 113,
     "metadata": {},
     "output_type": "execute_result"
    }
   ],
   "source": [
    "print(\"Unscaled Data\")\n",
    "print()\n",
    "train(libsvm_data, 1, 10, True, logistic = True)\n",
    "print()\n",
    "\n",
    "print(\"Scaled Data\")\n",
    "print()\n",
    "train(scaled_libsvm_data, 11, 10, True, logistic = True)"
   ]
  },
  {
   "cell_type": "markdown",
   "metadata": {},
   "source": [
    "#### Leave-One-Out (K-Fold) Cross Validation\n",
    "(k = n, number of data points)"
   ]
  },
  {
   "cell_type": "code",
   "execution_count": 114,
   "metadata": {},
   "outputs": [
    {
     "name": "stdout",
     "output_type": "stream",
     "text": [
      "Unscaled Data\n"
     ]
    },
    {
     "data": {
      "image/png": "[encoded data removed]",
      "text/plain": [
       "<Figure size 432x288 with 1 Axes>"
      ]
     },
     "metadata": {
      "needs_background": "light"
     },
     "output_type": "display_data"
    },
    {
     "name": "stdout",
     "output_type": "stream",
     "text": [
      "Scaled Data\n"
     ]
    },
    {
     "data": {
      "image/png": "[encoded data removed]",
      "text/plain": [
       "<Figure size 432x288 with 1 Axes>"
      ]
     },
     "metadata": {
      "needs_background": "light"
     },
     "output_type": "display_data"
    }
   ],
   "source": [
    "print(\"Unscaled Data\")\n",
    "leave_one_out_cross_validation(libsvm_data, logistic = True)\n",
    "\n",
    "print(\"Scaled Data\")\n",
    "leave_one_out_cross_validation(scaled_libsvm_data, logistic = True)"
   ]
  },
  {
   "cell_type": "code",
   "execution_count": null,
   "metadata": {
    "collapsed": true
   },
   "outputs": [],
   "source": []
  }
 ],
 "metadata": {
  "kernelspec": {
   "display_name": "Python 3",
   "language": "python",
   "name": "python3"
  },
  "language_info": {
   "codemirror_mode": {
    "name": "ipython",
    "version": 3
   },
   "file_extension": ".py",
   "mimetype": "text/x-python",
   "name": "python",
   "nbconvert_exporter": "python",
   "pygments_lexer": "ipython3",
   "version": "3.6.2"
  }
 },
 "nbformat": 4,
 "nbformat_minor": 2
}
